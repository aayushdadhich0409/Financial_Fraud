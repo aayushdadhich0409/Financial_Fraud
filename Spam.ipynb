{
 "cells": [
  {
   "cell_type": "code",
   "execution_count": 157,
   "id": "c6c8279e",
   "metadata": {},
   "outputs": [
    {
     "name": "stdout",
     "output_type": "stream",
     "text": [
      "Requirement already satisfied: nltk in c:\\users\\omen\\appdata\\local\\programs\\python\\python39\\lib\\site-packages (3.8.1)\n",
      "Requirement already satisfied: click in c:\\users\\omen\\appdata\\local\\programs\\python\\python39\\lib\\site-packages (from nltk) (8.1.3)\n",
      "Requirement already satisfied: tqdm in c:\\users\\omen\\appdata\\local\\programs\\python\\python39\\lib\\site-packages (from nltk) (4.65.0)\n",
      "Requirement already satisfied: regex>=2021.8.3 in c:\\users\\omen\\appdata\\local\\programs\\python\\python39\\lib\\site-packages (from nltk) (2022.10.31)\n",
      "Requirement already satisfied: joblib in c:\\users\\omen\\appdata\\local\\programs\\python\\python39\\lib\\site-packages (from nltk) (1.0.1)\n",
      "Requirement already satisfied: colorama in c:\\users\\omen\\appdata\\local\\programs\\python\\python39\\lib\\site-packages (from click->nltk) (0.4.4)\n"
     ]
    },
    {
     "name": "stderr",
     "output_type": "stream",
     "text": [
      "WARNING: You are using pip version 21.0.1; however, version 23.0.1 is available.\n",
      "You should consider upgrading via the 'c:\\users\\omen\\appdata\\local\\programs\\python\\python39\\python.exe -m pip install --upgrade pip' command.\n"
     ]
    },
    {
     "name": "stdout",
     "output_type": "stream",
     "text": [
      "Collecting gradio"
     ]
    },
    {
     "name": "stderr",
     "output_type": "stream",
     "text": [
      "  WARNING: Retrying (Retry(total=4, connect=None, read=None, redirect=None, status=None)) after connection broken by 'SSLError(SSLCertVerificationError(1, '[SSL: CERTIFICATE_VERIFY_FAILED] certificate verify failed: unable to get local issuer certificate (_ssl.c:1123)'))': /packages/08/7f/48c7503419722f2566be416bd062b2fcae8bcf0026d9142dfe77df64c66f/gradio-3.22.1-py3-none-any.whl\n",
      "  WARNING: Retrying (Retry(total=3, connect=None, read=None, redirect=None, status=None)) after connection broken by 'SSLError(SSLCertVerificationError(1, '[SSL: CERTIFICATE_VERIFY_FAILED] certificate verify failed: unable to get local issuer certificate (_ssl.c:1123)'))': /packages/08/7f/48c7503419722f2566be416bd062b2fcae8bcf0026d9142dfe77df64c66f/gradio-3.22.1-py3-none-any.whl\n",
      "  WARNING: Retrying (Retry(total=2, connect=None, read=None, redirect=None, status=None)) after connection broken by 'SSLError(SSLCertVerificationError(1, '[SSL: CERTIFICATE_VERIFY_FAILED] certificate verify failed: unable to get local issuer certificate (_ssl.c:1123)'))': /packages/08/7f/48c7503419722f2566be416bd062b2fcae8bcf0026d9142dfe77df64c66f/gradio-3.22.1-py3-none-any.whl\n",
      "  WARNING: Retrying (Retry(total=1, connect=None, read=None, redirect=None, status=None)) after connection broken by 'SSLError(SSLCertVerificationError(1, '[SSL: CERTIFICATE_VERIFY_FAILED] certificate verify failed: unable to get local issuer certificate (_ssl.c:1123)'))': /packages/08/7f/48c7503419722f2566be416bd062b2fcae8bcf0026d9142dfe77df64c66f/gradio-3.22.1-py3-none-any.whl\n",
      "  WARNING: Retrying (Retry(total=0, connect=None, read=None, redirect=None, status=None)) after connection broken by 'SSLError(SSLCertVerificationError(1, '[SSL: CERTIFICATE_VERIFY_FAILED] certificate verify failed: unable to get local issuer certificate (_ssl.c:1123)'))': /packages/08/7f/48c7503419722f2566be416bd062b2fcae8bcf0026d9142dfe77df64c66f/gradio-3.22.1-py3-none-any.whl\n",
      "ERROR: Could not install packages due to an OSError: HTTPSConnectionPool(host='files.pythonhosted.org', port=443): Max retries exceeded with url: /packages/08/7f/48c7503419722f2566be416bd062b2fcae8bcf0026d9142dfe77df64c66f/gradio-3.22.1-py3-none-any.whl (Caused by SSLError(SSLCertVerificationError(1, '[SSL: CERTIFICATE_VERIFY_FAILED] certificate verify failed: unable to get local issuer certificate (_ssl.c:1123)')))\n",
      "\n",
      "WARNING: You are using pip version 21.0.1; however, version 23.0.1 is available.\n",
      "You should consider upgrading via the 'c:\\users\\omen\\appdata\\local\\programs\\python\\python39\\python.exe -m pip install --upgrade pip' command.\n"
     ]
    },
    {
     "name": "stdout",
     "output_type": "stream",
     "text": [
      "\n"
     ]
    }
   ],
   "source": [
    "import pandas as pd\n",
    "!pip install nltk"
   ]
  },
  {
   "cell_type": "code",
   "execution_count": 98,
   "id": "b1fa332a",
   "metadata": {},
   "outputs": [],
   "source": [
    "df = pd.read_csv(\"spam.csv\")"
   ]
  },
  {
   "cell_type": "code",
   "execution_count": 99,
   "id": "69403ed8",
   "metadata": {},
   "outputs": [
    {
     "data": {
      "text/plain": [
       "Index(['v1', 'v2', 'Unnamed: 2', 'Unnamed: 3', 'Unnamed: 4'], dtype='object')"
      ]
     },
     "execution_count": 99,
     "metadata": {},
     "output_type": "execute_result"
    }
   ],
   "source": [
    "df.columns"
   ]
  },
  {
   "cell_type": "code",
   "execution_count": 100,
   "id": "5c7103d2",
   "metadata": {},
   "outputs": [],
   "source": [
    "df.drop(df.columns[[2, 3, 4]], axis=1, inplace=True)"
   ]
  },
  {
   "cell_type": "code",
   "execution_count": 101,
   "id": "65c0b37a",
   "metadata": {},
   "outputs": [
    {
     "data": {
      "text/html": [
       "<div>\n",
       "<style scoped>\n",
       "    .dataframe tbody tr th:only-of-type {\n",
       "        vertical-align: middle;\n",
       "    }\n",
       "\n",
       "    .dataframe tbody tr th {\n",
       "        vertical-align: top;\n",
       "    }\n",
       "\n",
       "    .dataframe thead th {\n",
       "        text-align: right;\n",
       "    }\n",
       "</style>\n",
       "<table border=\"1\" class=\"dataframe\">\n",
       "  <thead>\n",
       "    <tr style=\"text-align: right;\">\n",
       "      <th></th>\n",
       "      <th>v1</th>\n",
       "      <th>v2</th>\n",
       "    </tr>\n",
       "  </thead>\n",
       "  <tbody>\n",
       "    <tr>\n",
       "      <th>0</th>\n",
       "      <td>ham</td>\n",
       "      <td>Go until jurong point, crazy.. Available only ...</td>\n",
       "    </tr>\n",
       "    <tr>\n",
       "      <th>1</th>\n",
       "      <td>ham</td>\n",
       "      <td>Ok lar... Joking wif u oni...</td>\n",
       "    </tr>\n",
       "    <tr>\n",
       "      <th>2</th>\n",
       "      <td>spam</td>\n",
       "      <td>Free entry in 2 a wkly comp to win FA Cup fina...</td>\n",
       "    </tr>\n",
       "    <tr>\n",
       "      <th>3</th>\n",
       "      <td>ham</td>\n",
       "      <td>U dun say so early hor... U c already then say...</td>\n",
       "    </tr>\n",
       "    <tr>\n",
       "      <th>4</th>\n",
       "      <td>ham</td>\n",
       "      <td>Nah I don't think he goes to usf, he lives aro...</td>\n",
       "    </tr>\n",
       "  </tbody>\n",
       "</table>\n",
       "</div>"
      ],
      "text/plain": [
       "     v1                                                 v2\n",
       "0   ham  Go until jurong point, crazy.. Available only ...\n",
       "1   ham                      Ok lar... Joking wif u oni...\n",
       "2  spam  Free entry in 2 a wkly comp to win FA Cup fina...\n",
       "3   ham  U dun say so early hor... U c already then say...\n",
       "4   ham  Nah I don't think he goes to usf, he lives aro..."
      ]
     },
     "execution_count": 101,
     "metadata": {},
     "output_type": "execute_result"
    }
   ],
   "source": [
    "df.head()"
   ]
  },
  {
   "cell_type": "code",
   "execution_count": 102,
   "id": "ec2d179a",
   "metadata": {},
   "outputs": [],
   "source": [
    "df =df.rename(columns={\"v1\": \"label\"})"
   ]
  },
  {
   "cell_type": "code",
   "execution_count": 103,
   "id": "1db7dd91",
   "metadata": {},
   "outputs": [],
   "source": [
    "df =df.rename(columns={\"v2\": \"text\"})"
   ]
  },
  {
   "cell_type": "code",
   "execution_count": 104,
   "id": "a98b6a5b",
   "metadata": {},
   "outputs": [
    {
     "data": {
      "text/html": [
       "<div>\n",
       "<style scoped>\n",
       "    .dataframe tbody tr th:only-of-type {\n",
       "        vertical-align: middle;\n",
       "    }\n",
       "\n",
       "    .dataframe tbody tr th {\n",
       "        vertical-align: top;\n",
       "    }\n",
       "\n",
       "    .dataframe thead th {\n",
       "        text-align: right;\n",
       "    }\n",
       "</style>\n",
       "<table border=\"1\" class=\"dataframe\">\n",
       "  <thead>\n",
       "    <tr style=\"text-align: right;\">\n",
       "      <th></th>\n",
       "      <th>label</th>\n",
       "      <th>text</th>\n",
       "    </tr>\n",
       "  </thead>\n",
       "  <tbody>\n",
       "    <tr>\n",
       "      <th>0</th>\n",
       "      <td>ham</td>\n",
       "      <td>Go until jurong point, crazy.. Available only ...</td>\n",
       "    </tr>\n",
       "    <tr>\n",
       "      <th>1</th>\n",
       "      <td>ham</td>\n",
       "      <td>Ok lar... Joking wif u oni...</td>\n",
       "    </tr>\n",
       "    <tr>\n",
       "      <th>2</th>\n",
       "      <td>spam</td>\n",
       "      <td>Free entry in 2 a wkly comp to win FA Cup fina...</td>\n",
       "    </tr>\n",
       "    <tr>\n",
       "      <th>3</th>\n",
       "      <td>ham</td>\n",
       "      <td>U dun say so early hor... U c already then say...</td>\n",
       "    </tr>\n",
       "    <tr>\n",
       "      <th>4</th>\n",
       "      <td>ham</td>\n",
       "      <td>Nah I don't think he goes to usf, he lives aro...</td>\n",
       "    </tr>\n",
       "  </tbody>\n",
       "</table>\n",
       "</div>"
      ],
      "text/plain": [
       "  label                                               text\n",
       "0   ham  Go until jurong point, crazy.. Available only ...\n",
       "1   ham                      Ok lar... Joking wif u oni...\n",
       "2  spam  Free entry in 2 a wkly comp to win FA Cup fina...\n",
       "3   ham  U dun say so early hor... U c already then say...\n",
       "4   ham  Nah I don't think he goes to usf, he lives aro..."
      ]
     },
     "execution_count": 104,
     "metadata": {},
     "output_type": "execute_result"
    }
   ],
   "source": [
    "df.head()"
   ]
  },
  {
   "cell_type": "code",
   "execution_count": 105,
   "id": "35ea73a3",
   "metadata": {},
   "outputs": [],
   "source": [
    "from sklearn.preprocessing import LabelEncoder\n",
    "le = LabelEncoder"
   ]
  },
  {
   "cell_type": "code",
   "execution_count": 106,
   "id": "7449fe2f",
   "metadata": {},
   "outputs": [],
   "source": [
    "t = df.label"
   ]
  },
  {
   "cell_type": "code",
   "execution_count": 107,
   "id": "de806806",
   "metadata": {},
   "outputs": [
    {
     "data": {
      "text/plain": [
       "array([0, 0, 1, ..., 1, 1, 1])"
      ]
     },
     "execution_count": 107,
     "metadata": {},
     "output_type": "execute_result"
    }
   ],
   "source": [
    "dfle = df\n",
    "le.fit_transform(dfle.label,t)"
   ]
  },
  {
   "cell_type": "code",
   "execution_count": 108,
   "id": "5eef5699",
   "metadata": {},
   "outputs": [
    {
     "data": {
      "text/html": [
       "<div>\n",
       "<style scoped>\n",
       "    .dataframe tbody tr th:only-of-type {\n",
       "        vertical-align: middle;\n",
       "    }\n",
       "\n",
       "    .dataframe tbody tr th {\n",
       "        vertical-align: top;\n",
       "    }\n",
       "\n",
       "    .dataframe thead th {\n",
       "        text-align: right;\n",
       "    }\n",
       "</style>\n",
       "<table border=\"1\" class=\"dataframe\">\n",
       "  <thead>\n",
       "    <tr style=\"text-align: right;\">\n",
       "      <th></th>\n",
       "      <th>label</th>\n",
       "      <th>text</th>\n",
       "    </tr>\n",
       "  </thead>\n",
       "  <tbody>\n",
       "    <tr>\n",
       "      <th>0</th>\n",
       "      <td>0</td>\n",
       "      <td>Go until jurong point, crazy.. Available only ...</td>\n",
       "    </tr>\n",
       "    <tr>\n",
       "      <th>1</th>\n",
       "      <td>0</td>\n",
       "      <td>Ok lar... Joking wif u oni...</td>\n",
       "    </tr>\n",
       "    <tr>\n",
       "      <th>2</th>\n",
       "      <td>1</td>\n",
       "      <td>Free entry in 2 a wkly comp to win FA Cup fina...</td>\n",
       "    </tr>\n",
       "    <tr>\n",
       "      <th>3</th>\n",
       "      <td>0</td>\n",
       "      <td>U dun say so early hor... U c already then say...</td>\n",
       "    </tr>\n",
       "    <tr>\n",
       "      <th>4</th>\n",
       "      <td>0</td>\n",
       "      <td>Nah I don't think he goes to usf, he lives aro...</td>\n",
       "    </tr>\n",
       "    <tr>\n",
       "      <th>...</th>\n",
       "      <td>...</td>\n",
       "      <td>...</td>\n",
       "    </tr>\n",
       "    <tr>\n",
       "      <th>5576</th>\n",
       "      <td>1</td>\n",
       "      <td>((Coinbase)) Amount\\nreceived 2.221 Bitcoin\\nB...</td>\n",
       "    </tr>\n",
       "    <tr>\n",
       "      <th>5577</th>\n",
       "      <td>1</td>\n",
       "      <td>Hello. We detected\\nfraudulent activity on\\nyo...</td>\n",
       "    </tr>\n",
       "    <tr>\n",
       "      <th>5578</th>\n",
       "      <td>1</td>\n",
       "      <td>Our 11th scholarship\\nApplication is currently...</td>\n",
       "    </tr>\n",
       "    <tr>\n",
       "      <th>5579</th>\n",
       "      <td>1</td>\n",
       "      <td>Federal Credit Union\\nALERT: Your Credit\\nCard...</td>\n",
       "    </tr>\n",
       "    <tr>\n",
       "      <th>5580</th>\n",
       "      <td>1</td>\n",
       "      <td>Thank you for your\\nrecent Amazon purchase.\\nY...</td>\n",
       "    </tr>\n",
       "  </tbody>\n",
       "</table>\n",
       "<p>5581 rows × 2 columns</p>\n",
       "</div>"
      ],
      "text/plain": [
       "      label                                               text\n",
       "0         0  Go until jurong point, crazy.. Available only ...\n",
       "1         0                      Ok lar... Joking wif u oni...\n",
       "2         1  Free entry in 2 a wkly comp to win FA Cup fina...\n",
       "3         0  U dun say so early hor... U c already then say...\n",
       "4         0  Nah I don't think he goes to usf, he lives aro...\n",
       "...     ...                                                ...\n",
       "5576      1  ((Coinbase)) Amount\\nreceived 2.221 Bitcoin\\nB...\n",
       "5577      1  Hello. We detected\\nfraudulent activity on\\nyo...\n",
       "5578      1  Our 11th scholarship\\nApplication is currently...\n",
       "5579      1  Federal Credit Union\\nALERT: Your Credit\\nCard...\n",
       "5580      1  Thank you for your\\nrecent Amazon purchase.\\nY...\n",
       "\n",
       "[5581 rows x 2 columns]"
      ]
     },
     "execution_count": 108,
     "metadata": {},
     "output_type": "execute_result"
    }
   ],
   "source": [
    "dfle.label = le.fit_transform(dfle.label,t)\n",
    "dfle # 1 for spam and 0 for ham"
   ]
  },
  {
   "cell_type": "code",
   "execution_count": 109,
   "id": "3c12c5e4",
   "metadata": {},
   "outputs": [],
   "source": [
    "from nltk.corpus import stopwords"
   ]
  },
  {
   "cell_type": "code",
   "execution_count": 110,
   "id": "0b4e7ca8",
   "metadata": {},
   "outputs": [
    {
     "name": "stderr",
     "output_type": "stream",
     "text": [
      "[nltk_data] Downloading package stopwords to\n",
      "[nltk_data]     C:\\Users\\OMEN\\AppData\\Roaming\\nltk_data...\n",
      "[nltk_data]   Package stopwords is already up-to-date!\n"
     ]
    },
    {
     "data": {
      "text/plain": [
       "True"
      ]
     },
     "execution_count": 110,
     "metadata": {},
     "output_type": "execute_result"
    }
   ],
   "source": [
    "import re\n",
    "import nltk\n",
    "nltk.download('stopwords')\n"
   ]
  },
  {
   "cell_type": "code",
   "execution_count": 111,
   "id": "723e2635",
   "metadata": {},
   "outputs": [],
   "source": [
    "from nltk.stem.porter import PorterStemmer\n",
    "\n"
   ]
  },
  {
   "cell_type": "code",
   "execution_count": 112,
   "id": "7f6e5db2",
   "metadata": {},
   "outputs": [],
   "source": [
    "port_stem = PorterStemmer()"
   ]
  },
  {
   "cell_type": "code",
   "execution_count": 113,
   "id": "91cf46c9",
   "metadata": {},
   "outputs": [
    {
     "data": {
      "text/plain": [
       "'hi chaddd %a7$#'"
      ]
     },
     "execution_count": 113,
     "metadata": {},
     "output_type": "execute_result"
    }
   ],
   "source": [
    "port_stem.stem(\"HI chaddD %a7$#\")"
   ]
  },
  {
   "cell_type": "code",
   "execution_count": 114,
   "id": "be20e0c9",
   "metadata": {},
   "outputs": [],
   "source": [
    "def stemming(content):\n",
    "    con=re.sub('[^a-zA-Z]', ' ', content)\n",
    "    con=con.lower()\n",
    "    con=con.split()\n",
    "    con=[port_stem.stem(word) for word in con if not word in stopwords.words('english')]\n",
    "    con=' '.join(con)\n",
    "    return con"
   ]
  },
  {
   "cell_type": "code",
   "execution_count": 115,
   "id": "463c581e",
   "metadata": {},
   "outputs": [
    {
     "data": {
      "text/plain": [
       "'hi chaddd'"
      ]
     },
     "execution_count": 115,
     "metadata": {},
     "output_type": "execute_result"
    }
   ],
   "source": [
    "stemming('HI chaddD %a7$#')"
   ]
  },
  {
   "cell_type": "code",
   "execution_count": 116,
   "id": "dd2d0b8f",
   "metadata": {},
   "outputs": [],
   "source": [
    "df['text']= df['text'].apply(stemming)"
   ]
  },
  {
   "cell_type": "code",
   "execution_count": 117,
   "id": "783da4b6",
   "metadata": {},
   "outputs": [],
   "source": [
    "x=df['text']"
   ]
  },
  {
   "cell_type": "code",
   "execution_count": 118,
   "id": "da22bb2e",
   "metadata": {},
   "outputs": [],
   "source": [
    "y=df['label']"
   ]
  },
  {
   "cell_type": "code",
   "execution_count": 119,
   "id": "d46c9392",
   "metadata": {},
   "outputs": [
    {
     "data": {
      "text/plain": [
       "(5581,)"
      ]
     },
     "execution_count": 119,
     "metadata": {},
     "output_type": "execute_result"
    }
   ],
   "source": [
    "y.shape"
   ]
  },
  {
   "cell_type": "code",
   "execution_count": 120,
   "id": "3407935a",
   "metadata": {},
   "outputs": [],
   "source": [
    "from sklearn.model_selection import train_test_split"
   ]
  },
  {
   "cell_type": "code",
   "execution_count": 121,
   "id": "40397ef9",
   "metadata": {},
   "outputs": [],
   "source": [
    "x_train , x_test , y_train, y_test = train_test_split(x, y, test_size=0.20)"
   ]
  },
  {
   "cell_type": "code",
   "execution_count": 122,
   "id": "9bf2c656",
   "metadata": {},
   "outputs": [],
   "source": [
    "from sklearn.feature_extraction.text import TfidfVectorizer"
   ]
  },
  {
   "cell_type": "code",
   "execution_count": 123,
   "id": "2be025dd",
   "metadata": {},
   "outputs": [],
   "source": [
    "vect=TfidfVectorizer()"
   ]
  },
  {
   "cell_type": "code",
   "execution_count": 124,
   "id": "073d5da5",
   "metadata": {},
   "outputs": [],
   "source": [
    "x_train=vect.fit_transform(x_train)\n",
    "x_test=vect.transform(x_test)"
   ]
  },
  {
   "cell_type": "code",
   "execution_count": 125,
   "id": "46cf704f",
   "metadata": {},
   "outputs": [
    {
     "data": {
      "text/plain": [
       "(1117, 5557)"
      ]
     },
     "execution_count": 125,
     "metadata": {},
     "output_type": "execute_result"
    }
   ],
   "source": [
    "x_test.shape"
   ]
  },
  {
   "cell_type": "code",
   "execution_count": 126,
   "id": "4b3b5ffc",
   "metadata": {},
   "outputs": [],
   "source": [
    "from sklearn.tree import DecisionTreeClassifier"
   ]
  },
  {
   "cell_type": "code",
   "execution_count": 127,
   "id": "9cf85811",
   "metadata": {},
   "outputs": [],
   "source": [
    "model=DecisionTreeClassifier()"
   ]
  },
  {
   "cell_type": "code",
   "execution_count": 128,
   "id": "b5fb63da",
   "metadata": {},
   "outputs": [
    {
     "data": {
      "text/plain": [
       "DecisionTreeClassifier()"
      ]
     },
     "execution_count": 128,
     "metadata": {},
     "output_type": "execute_result"
    }
   ],
   "source": [
    "model.fit(x_train, y_train)"
   ]
  },
  {
   "cell_type": "code",
   "execution_count": 129,
   "id": "324a557d",
   "metadata": {},
   "outputs": [],
   "source": [
    "prediction=model.predict(x_test)\n"
   ]
  },
  {
   "cell_type": "code",
   "execution_count": 130,
   "id": "f5a88880",
   "metadata": {},
   "outputs": [
    {
     "data": {
      "text/plain": [
       "0.9623992837958818"
      ]
     },
     "execution_count": 130,
     "metadata": {},
     "output_type": "execute_result"
    }
   ],
   "source": [
    "model.score(x_test, y_test)"
   ]
  },
  {
   "cell_type": "code",
   "execution_count": 131,
   "id": "64450a2b",
   "metadata": {},
   "outputs": [],
   "source": [
    "import pickle"
   ]
  },
  {
   "cell_type": "code",
   "execution_count": 132,
   "id": "6126d311",
   "metadata": {},
   "outputs": [],
   "source": [
    "pickle.dump(vect, open('vector.pkl', 'wb'))"
   ]
  },
  {
   "cell_type": "code",
   "execution_count": 133,
   "id": "9820c2bb",
   "metadata": {},
   "outputs": [],
   "source": [
    "pickle.dump(model, open('model.pkl', 'wb'))"
   ]
  },
  {
   "cell_type": "code",
   "execution_count": 134,
   "id": "810897eb",
   "metadata": {},
   "outputs": [],
   "source": [
    "vector_form=pickle.load(open('vector.pkl', 'rb'))"
   ]
  },
  {
   "cell_type": "code",
   "execution_count": 135,
   "id": "eada9319",
   "metadata": {},
   "outputs": [],
   "source": [
    "load_model=pickle.load(open('model.pkl', 'rb'))"
   ]
  },
  {
   "cell_type": "code",
   "execution_count": 180,
   "id": "43d4c985",
   "metadata": {},
   "outputs": [],
   "source": [
    "def fraud_message(text):\n",
    "    news=stemming(text)\n",
    "    input_data=[text]\n",
    "    vector_form1=vector_form.transform(input_data)\n",
    "    val = load_model.predict(vector_form1)\n",
    "    if val==[0]:\n",
    "        return 'ham'\n",
    "    else:\n",
    "        return 'spam'\n",
    "    \n",
    "    "
   ]
  },
  {
   "cell_type": "code",
   "execution_count": 181,
   "id": "dac8a7f8",
   "metadata": {},
   "outputs": [],
   "source": [
    "def alert(val):\n",
    "    if val==[0]:\n",
    "        return 'ham'\n",
    "    else:\n",
    "        return 'spam'"
   ]
  },
  {
   "cell_type": "code",
   "execution_count": 182,
   "id": "a02e0d71",
   "metadata": {},
   "outputs": [],
   "source": [
    "val = fraud_message(\"FUN88 pe hai Amazing Offers! Pehle 1000 Signups ko milega Rs.1000 ka Freebets. Limited time offer! Register and play now! Click go.fun8x.com/4ff3. T&C\")"
   ]
  },
  {
   "cell_type": "code",
   "execution_count": 183,
   "id": "fef05081",
   "metadata": {},
   "outputs": [
    {
     "data": {
      "text/plain": [
       "'spam'"
      ]
     },
     "execution_count": 183,
     "metadata": {},
     "output_type": "execute_result"
    }
   ],
   "source": [
    "alert(val)"
   ]
  },
  {
   "cell_type": "code",
   "execution_count": 184,
   "id": "4f90a013",
   "metadata": {},
   "outputs": [
    {
     "name": "stdout",
     "output_type": "stream",
     "text": [
      "Requirement already satisfied: gradio in c:\\users\\omen\\appdata\\local\\programs\\python\\python39\\lib\\site-packages (3.22.1)\n",
      "Requirement already satisfied: python-multipart in c:\\users\\omen\\appdata\\local\\programs\\python\\python39\\lib\\site-packages (from gradio) (0.0.6)\n",
      "Requirement already satisfied: mdit-py-plugins<=0.3.3 in c:\\users\\omen\\appdata\\local\\programs\\python\\python39\\lib\\site-packages (from gradio) (0.3.3)\n",
      "Requirement already satisfied: markdown-it-py[linkify]>=2.0.0 in c:\\users\\omen\\appdata\\local\\programs\\python\\python39\\lib\\site-packages (from gradio) (2.2.0)\n",
      "Requirement already satisfied: aiofiles in c:\\users\\omen\\appdata\\local\\programs\\python\\python39\\lib\\site-packages (from gradio) (23.1.0)\n",
      "Requirement already satisfied: markupsafe in c:\\users\\omen\\appdata\\local\\programs\\python\\python39\\lib\\site-packages (from gradio) (1.1.1)\n",
      "Requirement already satisfied: pydub in c:\\users\\omen\\appdata\\local\\programs\\python\\python39\\lib\\site-packages (from gradio) (0.25.1)\n",
      "Requirement already satisfied: uvicorn in c:\\users\\omen\\appdata\\local\\programs\\python\\python39\\lib\\site-packages (from gradio) (0.21.1)"
     ]
    },
    {
     "name": "stderr",
     "output_type": "stream",
     "text": [
      "WARNING: You are using pip version 21.0.1; however, version 23.0.1 is available.\n",
      "You should consider upgrading via the 'c:\\users\\omen\\appdata\\local\\programs\\python\\python39\\python.exe -m pip install --upgrade pip' command.\n"
     ]
    },
    {
     "name": "stdout",
     "output_type": "stream",
     "text": [
      "\n",
      "Requirement already satisfied: altair>=4.2.0 in c:\\users\\omen\\appdata\\local\\programs\\python\\python39\\lib\\site-packages (from gradio) (4.2.2)\n",
      "Requirement already satisfied: ffmpy in c:\\users\\omen\\appdata\\local\\programs\\python\\python39\\lib\\site-packages (from gradio) (0.3.0)\n",
      "Requirement already satisfied: typing-extensions in c:\\users\\omen\\appdata\\local\\programs\\python\\python39\\lib\\site-packages (from gradio) (4.5.0)\n",
      "Requirement already satisfied: jinja2 in c:\\users\\omen\\appdata\\local\\programs\\python\\python39\\lib\\site-packages (from gradio) (2.11.3)\n",
      "Requirement already satisfied: pyyaml in c:\\users\\omen\\appdata\\local\\programs\\python\\python39\\lib\\site-packages (from gradio) (6.0)\n",
      "Requirement already satisfied: websockets>=10.0 in c:\\users\\omen\\appdata\\local\\programs\\python\\python39\\lib\\site-packages (from gradio) (10.4)\n",
      "Requirement already satisfied: numpy in c:\\users\\omen\\appdata\\local\\programs\\python\\python39\\lib\\site-packages (from gradio) (1.20.2)\n",
      "Requirement already satisfied: pydantic in c:\\users\\omen\\appdata\\local\\programs\\python\\python39\\lib\\site-packages (from gradio) (1.10.6)\n",
      "Requirement already satisfied: huggingface-hub>=0.13.0 in c:\\users\\omen\\appdata\\local\\programs\\python\\python39\\lib\\site-packages (from gradio) (0.13.2)\n",
      "Requirement already satisfied: fsspec in c:\\users\\omen\\appdata\\local\\programs\\python\\python39\\lib\\site-packages (from gradio) (2023.3.0)\n",
      "Requirement already satisfied: pillow in c:\\users\\omen\\appdata\\local\\programs\\python\\python39\\lib\\site-packages (from gradio) (8.2.0)\n",
      "Requirement already satisfied: matplotlib in c:\\users\\omen\\appdata\\local\\programs\\python\\python39\\lib\\site-packages (from gradio) (3.4.1)\n",
      "Requirement already satisfied: pandas in c:\\users\\omen\\appdata\\local\\programs\\python\\python39\\lib\\site-packages (from gradio) (1.2.3)\n",
      "Requirement already satisfied: orjson in c:\\users\\omen\\appdata\\local\\programs\\python\\python39\\lib\\site-packages (from gradio) (3.8.7)\n",
      "Requirement already satisfied: httpx in c:\\users\\omen\\appdata\\local\\programs\\python\\python39\\lib\\site-packages (from gradio) (0.23.3)\n",
      "Requirement already satisfied: fastapi in c:\\users\\omen\\appdata\\local\\programs\\python\\python39\\lib\\site-packages (from gradio) (0.95.0)\n",
      "Requirement already satisfied: aiohttp in c:\\users\\omen\\appdata\\local\\programs\\python\\python39\\lib\\site-packages (from gradio) (3.8.4)\n",
      "Requirement already satisfied: requests in c:\\users\\omen\\appdata\\local\\programs\\python\\python39\\lib\\site-packages (from gradio) (2.25.1)\n",
      "Requirement already satisfied: entrypoints in c:\\users\\omen\\appdata\\local\\programs\\python\\python39\\lib\\site-packages (from altair>=4.2.0->gradio) (0.3)\n",
      "Requirement already satisfied: toolz in c:\\users\\omen\\appdata\\local\\programs\\python\\python39\\lib\\site-packages (from altair>=4.2.0->gradio) (0.12.0)\n",
      "Requirement already satisfied: jsonschema>=3.0 in c:\\users\\omen\\appdata\\local\\programs\\python\\python39\\lib\\site-packages (from altair>=4.2.0->gradio) (3.2.0)\n",
      "Requirement already satisfied: filelock in c:\\users\\omen\\appdata\\local\\programs\\python\\python39\\lib\\site-packages (from huggingface-hub>=0.13.0->gradio) (3.10.0)\n",
      "Requirement already satisfied: tqdm>=4.42.1 in c:\\users\\omen\\appdata\\local\\programs\\python\\python39\\lib\\site-packages (from huggingface-hub>=0.13.0->gradio) (4.65.0)\n",
      "Requirement already satisfied: packaging>=20.9 in c:\\users\\omen\\appdata\\local\\programs\\python\\python39\\lib\\site-packages (from huggingface-hub>=0.13.0->gradio) (20.9)\n",
      "Requirement already satisfied: setuptools in c:\\users\\omen\\appdata\\local\\programs\\python\\python39\\lib\\site-packages (from jsonschema>=3.0->altair>=4.2.0->gradio) (49.2.1)\n",
      "Requirement already satisfied: attrs>=17.4.0 in c:\\users\\omen\\appdata\\local\\programs\\python\\python39\\lib\\site-packages (from jsonschema>=3.0->altair>=4.2.0->gradio) (20.3.0)\n",
      "Requirement already satisfied: pyrsistent>=0.14.0 in c:\\users\\omen\\appdata\\local\\programs\\python\\python39\\lib\\site-packages (from jsonschema>=3.0->altair>=4.2.0->gradio) (0.17.3)\n",
      "Requirement already satisfied: six>=1.11.0 in c:\\users\\omen\\appdata\\local\\programs\\python\\python39\\lib\\site-packages (from jsonschema>=3.0->altair>=4.2.0->gradio) (1.15.0)\n",
      "Requirement already satisfied: mdurl~=0.1 in c:\\users\\omen\\appdata\\local\\programs\\python\\python39\\lib\\site-packages (from markdown-it-py[linkify]>=2.0.0->gradio) (0.1.2)\n",
      "Requirement already satisfied: linkify-it-py<3,>=1 in c:\\users\\omen\\appdata\\local\\programs\\python\\python39\\lib\\site-packages (from markdown-it-py[linkify]>=2.0.0->gradio) (2.0.0)\n",
      "Requirement already satisfied: uc-micro-py in c:\\users\\omen\\appdata\\local\\programs\\python\\python39\\lib\\site-packages (from linkify-it-py<3,>=1->markdown-it-py[linkify]>=2.0.0->gradio) (1.0.1)\n",
      "Requirement already satisfied: pyparsing>=2.0.2 in c:\\users\\omen\\appdata\\local\\programs\\python\\python39\\lib\\site-packages (from packaging>=20.9->huggingface-hub>=0.13.0->gradio) (2.4.7)\n",
      "Requirement already satisfied: pytz>=2017.3 in c:\\users\\omen\\appdata\\local\\programs\\python\\python39\\lib\\site-packages (from pandas->gradio) (2021.1)\n",
      "Requirement already satisfied: python-dateutil>=2.7.3 in c:\\users\\omen\\appdata\\local\\programs\\python\\python39\\lib\\site-packages (from pandas->gradio) (2.8.1)\n",
      "Requirement already satisfied: colorama in c:\\users\\omen\\appdata\\local\\programs\\python\\python39\\lib\\site-packages (from tqdm>=4.42.1->huggingface-hub>=0.13.0->gradio) (0.4.4)\n",
      "Requirement already satisfied: async-timeout<5.0,>=4.0.0a3 in c:\\users\\omen\\appdata\\local\\programs\\python\\python39\\lib\\site-packages (from aiohttp->gradio) (4.0.2)\n",
      "Requirement already satisfied: frozenlist>=1.1.1 in c:\\users\\omen\\appdata\\local\\programs\\python\\python39\\lib\\site-packages (from aiohttp->gradio) (1.3.3)\n",
      "Requirement already satisfied: charset-normalizer<4.0,>=2.0 in c:\\users\\omen\\appdata\\local\\programs\\python\\python39\\lib\\site-packages (from aiohttp->gradio) (3.1.0)\n",
      "Requirement already satisfied: aiosignal>=1.1.2 in c:\\users\\omen\\appdata\\local\\programs\\python\\python39\\lib\\site-packages (from aiohttp->gradio) (1.3.1)\n",
      "Requirement already satisfied: yarl<2.0,>=1.0 in c:\\users\\omen\\appdata\\local\\programs\\python\\python39\\lib\\site-packages (from aiohttp->gradio) (1.8.2)\n",
      "Requirement already satisfied: multidict<7.0,>=4.5 in c:\\users\\omen\\appdata\\local\\programs\\python\\python39\\lib\\site-packages (from aiohttp->gradio) (6.0.4)\n",
      "Requirement already satisfied: idna>=2.0 in c:\\users\\omen\\appdata\\local\\programs\\python\\python39\\lib\\site-packages (from yarl<2.0,>=1.0->aiohttp->gradio) (2.10)\n",
      "Requirement already satisfied: starlette<0.27.0,>=0.26.1 in c:\\users\\omen\\appdata\\local\\programs\\python\\python39\\lib\\site-packages (from fastapi->gradio) (0.26.1)\n",
      "Requirement already satisfied: anyio<5,>=3.4.0 in c:\\users\\omen\\appdata\\local\\programs\\python\\python39\\lib\\site-packages (from starlette<0.27.0,>=0.26.1->fastapi->gradio) (3.6.2)\n",
      "Requirement already satisfied: sniffio>=1.1 in c:\\users\\omen\\appdata\\local\\programs\\python\\python39\\lib\\site-packages (from anyio<5,>=3.4.0->starlette<0.27.0,>=0.26.1->fastapi->gradio) (1.2.0)\n",
      "Requirement already satisfied: rfc3986[idna2008]<2,>=1.3 in c:\\users\\omen\\appdata\\local\\programs\\python\\python39\\lib\\site-packages (from httpx->gradio) (1.5.0)\n",
      "Requirement already satisfied: httpcore<0.17.0,>=0.15.0 in c:\\users\\omen\\appdata\\local\\programs\\python\\python39\\lib\\site-packages (from httpx->gradio) (0.16.3)\n",
      "Requirement already satisfied: certifi in c:\\users\\omen\\appdata\\local\\programs\\python\\python39\\lib\\site-packages (from httpx->gradio) (2020.12.5)\n",
      "Requirement already satisfied: h11<0.15,>=0.13 in c:\\users\\omen\\appdata\\local\\programs\\python\\python39\\lib\\site-packages (from httpcore<0.17.0,>=0.15.0->httpx->gradio) (0.14.0)\n",
      "Requirement already satisfied: cycler>=0.10 in c:\\users\\omen\\appdata\\local\\programs\\python\\python39\\lib\\site-packages (from matplotlib->gradio) (0.10.0)\n",
      "Requirement already satisfied: kiwisolver>=1.0.1 in c:\\users\\omen\\appdata\\local\\programs\\python\\python39\\lib\\site-packages (from matplotlib->gradio) (1.3.1)\n",
      "Requirement already satisfied: chardet<5,>=3.0.2 in c:\\users\\omen\\appdata\\local\\programs\\python\\python39\\lib\\site-packages (from requests->gradio) (4.0.0)\n",
      "Requirement already satisfied: urllib3<1.27,>=1.21.1 in c:\\users\\omen\\appdata\\local\\programs\\python\\python39\\lib\\site-packages (from requests->gradio) (1.26.4)\n",
      "Requirement already satisfied: click>=7.0 in c:\\users\\omen\\appdata\\local\\programs\\python\\python39\\lib\\site-packages (from uvicorn->gradio) (8.1.3)\n"
     ]
    }
   ],
   "source": [
    "!pip install gradio"
   ]
  },
  {
   "cell_type": "code",
   "execution_count": 185,
   "id": "78623e66",
   "metadata": {},
   "outputs": [],
   "source": [
    "import gradio as gr"
   ]
  },
  {
   "cell_type": "code",
   "execution_count": 186,
   "id": "98e8ef18",
   "metadata": {},
   "outputs": [],
   "source": [
    "demo = gr.Interface(fn=fraud_message, inputs=\"text\", outputs=\"text\")"
   ]
  },
  {
   "cell_type": "code",
   "execution_count": 187,
   "id": "45b41505",
   "metadata": {},
   "outputs": [
    {
     "name": "stdout",
     "output_type": "stream",
     "text": [
      "Running on local URL:  http://127.0.0.1:7863\n",
      "\n",
      "To create a public link, set `share=True` in `launch()`.\n"
     ]
    },
    {
     "data": {
      "text/html": [
       "<div><iframe src=\"http://127.0.0.1:7863/\" width=\"100%\" height=\"500\" allow=\"autoplay; camera; microphone; clipboard-read; clipboard-write;\" frameborder=\"0\" allowfullscreen></iframe></div>"
      ],
      "text/plain": [
       "<IPython.core.display.HTML object>"
      ]
     },
     "metadata": {},
     "output_type": "display_data"
    },
    {
     "data": {
      "text/plain": []
     },
     "execution_count": 187,
     "metadata": {},
     "output_type": "execute_result"
    }
   ],
   "source": [
    "demo.launch()"
   ]
  },
  {
   "cell_type": "code",
   "execution_count": null,
   "id": "f70206b2",
   "metadata": {},
   "outputs": [],
   "source": []
  }
 ],
 "metadata": {
  "kernelspec": {
   "display_name": "Python 3",
   "language": "python",
   "name": "python3"
  },
  "language_info": {
   "codemirror_mode": {
    "name": "ipython",
    "version": 3
   },
   "file_extension": ".py",
   "mimetype": "text/x-python",
   "name": "python",
   "nbconvert_exporter": "python",
   "pygments_lexer": "ipython3",
   "version": "3.9.4"
  }
 },
 "nbformat": 4,
 "nbformat_minor": 5
}
