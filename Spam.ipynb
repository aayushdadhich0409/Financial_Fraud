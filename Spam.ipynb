{
 "cells": [
  {
   "cell_type": "code",
   "execution_count": 71,
   "id": "c6c8279e",
   "metadata": {},
   "outputs": [
    {
     "name": "stdout",
     "output_type": "stream",
     "text": [
      "Requirement already satisfied: nltk in c:\\users\\omen\\appdata\\local\\programs\\python\\python39\\lib\\site-packages (3.8.1)\n",
      "Requirement already satisfied: click in c:\\users\\omen\\appdata\\local\\programs\\python\\python39\\lib\\site-packages (from nltk) (8.1.3)\n",
      "Requirement already satisfied: tqdm in c:\\users\\omen\\appdata\\local\\programs\\python\\python39\\lib\\site-packages (from nltk) (4.65.0)\n",
      "Requirement already satisfied: joblib in c:\\users\\omen\\appdata\\local\\programs\\python\\python39\\lib\\site-packages (from nltk) (1.0.1)\n",
      "Requirement already satisfied: regex>=2021.8.3 in c:\\users\\omen\\appdata\\local\\programs\\python\\python39\\lib\\site-packages (from nltk) (2022.10.31)\n",
      "Requirement already satisfied: colorama in c:\\users\\omen\\appdata\\local\\programs\\python\\python39\\lib\\site-packages (from click->nltk) (0.4.6)\n"
     ]
    },
    {
     "name": "stderr",
     "output_type": "stream",
     "text": [
      "WARNING: You are using pip version 21.0.1; however, version 23.0.1 is available.\n",
      "You should consider upgrading via the 'c:\\users\\omen\\appdata\\local\\programs\\python\\python39\\python.exe -m pip install --upgrade pip' command.\n"
     ]
    }
   ],
   "source": [
    "import pandas as pd\n",
    "!pip install nltk"
   ]
  },
  {
   "cell_type": "code",
   "execution_count": 72,
   "id": "b1fa332a",
   "metadata": {},
   "outputs": [],
   "source": [
    "df = pd.read_csv(\"spam.csv\")"
   ]
  },
  {
   "cell_type": "code",
   "execution_count": 73,
   "id": "69403ed8",
   "metadata": {},
   "outputs": [
    {
     "data": {
      "text/plain": [
       "Index(['v1', 'v2', 'Unnamed: 2', 'Unnamed: 3', 'Unnamed: 4'], dtype='object')"
      ]
     },
     "execution_count": 73,
     "metadata": {},
     "output_type": "execute_result"
    }
   ],
   "source": [
    "df.columns"
   ]
  },
  {
   "cell_type": "code",
   "execution_count": 74,
   "id": "5c7103d2",
   "metadata": {},
   "outputs": [],
   "source": [
    "df.drop(df.columns[[2, 3, 4]], axis=1, inplace=True)"
   ]
  },
  {
   "cell_type": "code",
   "execution_count": 75,
   "id": "65c0b37a",
   "metadata": {},
   "outputs": [
    {
     "data": {
      "text/html": [
       "<div>\n",
       "<style scoped>\n",
       "    .dataframe tbody tr th:only-of-type {\n",
       "        vertical-align: middle;\n",
       "    }\n",
       "\n",
       "    .dataframe tbody tr th {\n",
       "        vertical-align: top;\n",
       "    }\n",
       "\n",
       "    .dataframe thead th {\n",
       "        text-align: right;\n",
       "    }\n",
       "</style>\n",
       "<table border=\"1\" class=\"dataframe\">\n",
       "  <thead>\n",
       "    <tr style=\"text-align: right;\">\n",
       "      <th></th>\n",
       "      <th>v1</th>\n",
       "      <th>v2</th>\n",
       "    </tr>\n",
       "  </thead>\n",
       "  <tbody>\n",
       "    <tr>\n",
       "      <th>0</th>\n",
       "      <td>ham</td>\n",
       "      <td>Go until jurong point, crazy.. Available only ...</td>\n",
       "    </tr>\n",
       "    <tr>\n",
       "      <th>1</th>\n",
       "      <td>ham</td>\n",
       "      <td>Ok lar... Joking wif u oni...</td>\n",
       "    </tr>\n",
       "    <tr>\n",
       "      <th>2</th>\n",
       "      <td>spam</td>\n",
       "      <td>Free entry in 2 a wkly comp to win FA Cup fina...</td>\n",
       "    </tr>\n",
       "    <tr>\n",
       "      <th>3</th>\n",
       "      <td>ham</td>\n",
       "      <td>U dun say so early hor... U c already then say...</td>\n",
       "    </tr>\n",
       "    <tr>\n",
       "      <th>4</th>\n",
       "      <td>ham</td>\n",
       "      <td>Nah I don't think he goes to usf, he lives aro...</td>\n",
       "    </tr>\n",
       "  </tbody>\n",
       "</table>\n",
       "</div>"
      ],
      "text/plain": [
       "     v1                                                 v2\n",
       "0   ham  Go until jurong point, crazy.. Available only ...\n",
       "1   ham                      Ok lar... Joking wif u oni...\n",
       "2  spam  Free entry in 2 a wkly comp to win FA Cup fina...\n",
       "3   ham  U dun say so early hor... U c already then say...\n",
       "4   ham  Nah I don't think he goes to usf, he lives aro..."
      ]
     },
     "execution_count": 75,
     "metadata": {},
     "output_type": "execute_result"
    }
   ],
   "source": [
    "df.head()"
   ]
  },
  {
   "cell_type": "code",
   "execution_count": 76,
   "id": "ec2d179a",
   "metadata": {},
   "outputs": [],
   "source": [
    "df =df.rename(columns={\"v1\": \"label\"})"
   ]
  },
  {
   "cell_type": "code",
   "execution_count": 77,
   "id": "1db7dd91",
   "metadata": {},
   "outputs": [],
   "source": [
    "df =df.rename(columns={\"v2\": \"text\"})"
   ]
  },
  {
   "cell_type": "code",
   "execution_count": 78,
   "id": "a98b6a5b",
   "metadata": {},
   "outputs": [
    {
     "data": {
      "text/html": [
       "<div>\n",
       "<style scoped>\n",
       "    .dataframe tbody tr th:only-of-type {\n",
       "        vertical-align: middle;\n",
       "    }\n",
       "\n",
       "    .dataframe tbody tr th {\n",
       "        vertical-align: top;\n",
       "    }\n",
       "\n",
       "    .dataframe thead th {\n",
       "        text-align: right;\n",
       "    }\n",
       "</style>\n",
       "<table border=\"1\" class=\"dataframe\">\n",
       "  <thead>\n",
       "    <tr style=\"text-align: right;\">\n",
       "      <th></th>\n",
       "      <th>label</th>\n",
       "      <th>text</th>\n",
       "    </tr>\n",
       "  </thead>\n",
       "  <tbody>\n",
       "    <tr>\n",
       "      <th>0</th>\n",
       "      <td>ham</td>\n",
       "      <td>Go until jurong point, crazy.. Available only ...</td>\n",
       "    </tr>\n",
       "    <tr>\n",
       "      <th>1</th>\n",
       "      <td>ham</td>\n",
       "      <td>Ok lar... Joking wif u oni...</td>\n",
       "    </tr>\n",
       "    <tr>\n",
       "      <th>2</th>\n",
       "      <td>spam</td>\n",
       "      <td>Free entry in 2 a wkly comp to win FA Cup fina...</td>\n",
       "    </tr>\n",
       "    <tr>\n",
       "      <th>3</th>\n",
       "      <td>ham</td>\n",
       "      <td>U dun say so early hor... U c already then say...</td>\n",
       "    </tr>\n",
       "    <tr>\n",
       "      <th>4</th>\n",
       "      <td>ham</td>\n",
       "      <td>Nah I don't think he goes to usf, he lives aro...</td>\n",
       "    </tr>\n",
       "  </tbody>\n",
       "</table>\n",
       "</div>"
      ],
      "text/plain": [
       "  label                                               text\n",
       "0   ham  Go until jurong point, crazy.. Available only ...\n",
       "1   ham                      Ok lar... Joking wif u oni...\n",
       "2  spam  Free entry in 2 a wkly comp to win FA Cup fina...\n",
       "3   ham  U dun say so early hor... U c already then say...\n",
       "4   ham  Nah I don't think he goes to usf, he lives aro..."
      ]
     },
     "execution_count": 78,
     "metadata": {},
     "output_type": "execute_result"
    }
   ],
   "source": [
    "df.head()"
   ]
  },
  {
   "cell_type": "code",
   "execution_count": 79,
   "id": "35ea73a3",
   "metadata": {},
   "outputs": [],
   "source": [
    "from sklearn.preprocessing import LabelEncoder\n",
    "le = LabelEncoder"
   ]
  },
  {
   "cell_type": "code",
   "execution_count": 80,
   "id": "7449fe2f",
   "metadata": {},
   "outputs": [],
   "source": [
    "t = df.label"
   ]
  },
  {
   "cell_type": "code",
   "execution_count": 81,
   "id": "de806806",
   "metadata": {},
   "outputs": [
    {
     "data": {
      "text/plain": [
       "array([0, 0, 1, ..., 1, 1, 1])"
      ]
     },
     "execution_count": 81,
     "metadata": {},
     "output_type": "execute_result"
    }
   ],
   "source": [
    "dfle = df\n",
    "le.fit_transform(dfle.label,t)"
   ]
  },
  {
   "cell_type": "code",
   "execution_count": 82,
   "id": "5eef5699",
   "metadata": {},
   "outputs": [
    {
     "data": {
      "text/html": [
       "<div>\n",
       "<style scoped>\n",
       "    .dataframe tbody tr th:only-of-type {\n",
       "        vertical-align: middle;\n",
       "    }\n",
       "\n",
       "    .dataframe tbody tr th {\n",
       "        vertical-align: top;\n",
       "    }\n",
       "\n",
       "    .dataframe thead th {\n",
       "        text-align: right;\n",
       "    }\n",
       "</style>\n",
       "<table border=\"1\" class=\"dataframe\">\n",
       "  <thead>\n",
       "    <tr style=\"text-align: right;\">\n",
       "      <th></th>\n",
       "      <th>label</th>\n",
       "      <th>text</th>\n",
       "    </tr>\n",
       "  </thead>\n",
       "  <tbody>\n",
       "    <tr>\n",
       "      <th>0</th>\n",
       "      <td>0</td>\n",
       "      <td>Go until jurong point, crazy.. Available only ...</td>\n",
       "    </tr>\n",
       "    <tr>\n",
       "      <th>1</th>\n",
       "      <td>0</td>\n",
       "      <td>Ok lar... Joking wif u oni...</td>\n",
       "    </tr>\n",
       "    <tr>\n",
       "      <th>2</th>\n",
       "      <td>1</td>\n",
       "      <td>Free entry in 2 a wkly comp to win FA Cup fina...</td>\n",
       "    </tr>\n",
       "    <tr>\n",
       "      <th>3</th>\n",
       "      <td>0</td>\n",
       "      <td>U dun say so early hor... U c already then say...</td>\n",
       "    </tr>\n",
       "    <tr>\n",
       "      <th>4</th>\n",
       "      <td>0</td>\n",
       "      <td>Nah I don't think he goes to usf, he lives aro...</td>\n",
       "    </tr>\n",
       "    <tr>\n",
       "      <th>...</th>\n",
       "      <td>...</td>\n",
       "      <td>...</td>\n",
       "    </tr>\n",
       "    <tr>\n",
       "      <th>5576</th>\n",
       "      <td>1</td>\n",
       "      <td>((Coinbase)) Amount\\nreceived 2.221 Bitcoin\\nB...</td>\n",
       "    </tr>\n",
       "    <tr>\n",
       "      <th>5577</th>\n",
       "      <td>1</td>\n",
       "      <td>Hello. We detected\\nfraudulent activity on\\nyo...</td>\n",
       "    </tr>\n",
       "    <tr>\n",
       "      <th>5578</th>\n",
       "      <td>1</td>\n",
       "      <td>Our 11th scholarship\\nApplication is currently...</td>\n",
       "    </tr>\n",
       "    <tr>\n",
       "      <th>5579</th>\n",
       "      <td>1</td>\n",
       "      <td>Federal Credit Union\\nALERT: Your Credit\\nCard...</td>\n",
       "    </tr>\n",
       "    <tr>\n",
       "      <th>5580</th>\n",
       "      <td>1</td>\n",
       "      <td>Thank you for your\\nrecent Amazon purchase.\\nY...</td>\n",
       "    </tr>\n",
       "  </tbody>\n",
       "</table>\n",
       "<p>5581 rows × 2 columns</p>\n",
       "</div>"
      ],
      "text/plain": [
       "      label                                               text\n",
       "0         0  Go until jurong point, crazy.. Available only ...\n",
       "1         0                      Ok lar... Joking wif u oni...\n",
       "2         1  Free entry in 2 a wkly comp to win FA Cup fina...\n",
       "3         0  U dun say so early hor... U c already then say...\n",
       "4         0  Nah I don't think he goes to usf, he lives aro...\n",
       "...     ...                                                ...\n",
       "5576      1  ((Coinbase)) Amount\\nreceived 2.221 Bitcoin\\nB...\n",
       "5577      1  Hello. We detected\\nfraudulent activity on\\nyo...\n",
       "5578      1  Our 11th scholarship\\nApplication is currently...\n",
       "5579      1  Federal Credit Union\\nALERT: Your Credit\\nCard...\n",
       "5580      1  Thank you for your\\nrecent Amazon purchase.\\nY...\n",
       "\n",
       "[5581 rows x 2 columns]"
      ]
     },
     "execution_count": 82,
     "metadata": {},
     "output_type": "execute_result"
    }
   ],
   "source": [
    "dfle.label = le.fit_transform(dfle.label,t)\n",
    "dfle # 1 for spam and 0 for ham"
   ]
  },
  {
   "cell_type": "code",
   "execution_count": 83,
   "id": "0b4e7ca8",
   "metadata": {},
   "outputs": [
    {
     "name": "stderr",
     "output_type": "stream",
     "text": [
      "[nltk_data] Downloading package stopwords to\n",
      "[nltk_data]     C:\\Users\\OMEN\\AppData\\Roaming\\nltk_data...\n",
      "[nltk_data]   Package stopwords is already up-to-date!\n"
     ]
    }
   ],
   "source": [
    "import re\n",
    "import nltk\n",
    "nltk.download('stopwords')\n",
    "from nltk.corpus import stopwords"
   ]
  },
  {
   "cell_type": "code",
   "execution_count": 84,
   "id": "723e2635",
   "metadata": {},
   "outputs": [],
   "source": [
    "from nltk.stem.porter import PorterStemmer\n",
    "\n",
    "arr = ['be', 'further', 'does', 's', 'some', 'because', 'aren', \"shan't\", 'most', 'i', 'had', 'about', 'shan', 'on', 'nor', \"won't\", \"isn't\", 'they', \"you've\", 'why', 're', 'haven', 'while', \"weren't\", \"mustn't\", 'or', 'but', 'couldn', 'didn', 'you', 'too', 'myself', 't', 'own', 'were', 'than', 'that', 'by', 'he', 'isn', 'where', \"should've\", \"you'd\", 'hers', 'same', \"wasn't\", 'during', \"you'll\", \"couldn't\", 'do', \"didn't\", 'as', 'which', 'after', 'against', 'doing', \"aren't\", 'can', 'of', 'have', 'hadn', 'both', 'having', 'any', 'more', 'before', 'ain', 'mustn', 'was', \"wouldn't\", 'mightn', 'other', 'wasn', 'through', 'if', 'no', 'o', 'hasn', 'has', 'from', 'below', 'into', 'this', 'off', 'very', \"needn't\", 'won', 'to', 'd', 'the', 'been', 'don', 'then', 'our', 'their', 'under', 'yours', 'whom', 'at', 'between', 'them', 'these', 'an', 'out', \"mightn't\", 'me', 'itself', 'who', 'down', 'will', 'themselves', 'doesn', 'for', 'weren', 'what', \"that'll\", 'there', 'herself', 'over', 'wouldn', \"hasn't\", \"you're\", 'with', \"haven't\", 'her', \"she's\", 'each', 'ma', 'few', 've', 'once', \"shouldn't\", 'his', 'your', 'until', 'and', 'above', 'him', 'yourselves', 'm', 'here', 'not', 'shouldn', 'needn', 'ourselves', 'she', 'its', 'being', 'my', 'a', 'those', 'theirs', 'am', 'so', 'should', \"it's\", 'ours', 'up', 'in', 'are', 'again', 'it', 'such', 'yourself', 'how', 'all', 'just', \"hadn't\", 'y', 'is', \"don't\", 'we', 'when', 'now', 'only', 'himself', \"doesn't\", 'll', 'did']"
   ]
  },
  {
   "cell_type": "code",
   "execution_count": 85,
   "id": "7f6e5db2",
   "metadata": {},
   "outputs": [],
   "source": [
    "port_stem = PorterStemmer()"
   ]
  },
  {
   "cell_type": "code",
   "execution_count": 86,
   "id": "91cf46c9",
   "metadata": {},
   "outputs": [
    {
     "data": {
      "text/plain": [
       "'hi chaddd %a7$#'"
      ]
     },
     "execution_count": 86,
     "metadata": {},
     "output_type": "execute_result"
    }
   ],
   "source": [
    "port_stem.stem(\"HI chaddD %a7$#\")"
   ]
  },
  {
   "cell_type": "code",
   "execution_count": 87,
   "id": "be20e0c9",
   "metadata": {},
   "outputs": [],
   "source": [
    "def stemming(content):\n",
    "    con=re.sub('[^a-zA-Z]', ' ', content)\n",
    "    con=con.lower()\n",
    "    con=con.split()\n",
    "    con=[port_stem.stem(word) for word in con if not word in arr]\n",
    "    con=' '.join(con)\n",
    "    return con"
   ]
  },
  {
   "cell_type": "code",
   "execution_count": 89,
   "id": "463c581e",
   "metadata": {
    "scrolled": false
   },
   "outputs": [
    {
     "data": {
      "text/plain": [
       "'hi chadd sidigashagahsdjkhd'"
      ]
     },
     "execution_count": 89,
     "metadata": {},
     "output_type": "execute_result"
    }
   ],
   "source": [
    "stemming('HI chadd ^sidigashagAHSDJKHD %a7$#')"
   ]
  },
  {
   "cell_type": "code",
   "execution_count": 90,
   "id": "dd2d0b8f",
   "metadata": {},
   "outputs": [],
   "source": [
    "df['text']= df['text'].apply(stemming)"
   ]
  },
  {
   "cell_type": "code",
   "execution_count": 91,
   "id": "783da4b6",
   "metadata": {},
   "outputs": [],
   "source": [
    "x=df['text']"
   ]
  },
  {
   "cell_type": "code",
   "execution_count": 92,
   "id": "da22bb2e",
   "metadata": {},
   "outputs": [],
   "source": [
    "y=df['label']"
   ]
  },
  {
   "cell_type": "code",
   "execution_count": 93,
   "id": "d46c9392",
   "metadata": {},
   "outputs": [
    {
     "data": {
      "text/plain": [
       "(5581,)"
      ]
     },
     "execution_count": 93,
     "metadata": {},
     "output_type": "execute_result"
    }
   ],
   "source": [
    "y.shape"
   ]
  },
  {
   "cell_type": "code",
   "execution_count": 94,
   "id": "3407935a",
   "metadata": {},
   "outputs": [],
   "source": [
    "from sklearn.model_selection import train_test_split"
   ]
  },
  {
   "cell_type": "code",
   "execution_count": 95,
   "id": "40397ef9",
   "metadata": {},
   "outputs": [],
   "source": [
    "x_train , x_test , y_train, y_test = train_test_split(x, y, test_size=0.20)"
   ]
  },
  {
   "cell_type": "code",
   "execution_count": 96,
   "id": "9bf2c656",
   "metadata": {},
   "outputs": [],
   "source": [
    "from sklearn.feature_extraction.text import TfidfVectorizer"
   ]
  },
  {
   "cell_type": "code",
   "execution_count": 97,
   "id": "2be025dd",
   "metadata": {},
   "outputs": [],
   "source": [
    "vect=TfidfVectorizer()"
   ]
  },
  {
   "cell_type": "code",
   "execution_count": 98,
   "id": "073d5da5",
   "metadata": {},
   "outputs": [],
   "source": [
    "x_train=vect.fit_transform(x_train)\n",
    "x_test=vect.transform(x_test)"
   ]
  },
  {
   "cell_type": "code",
   "execution_count": 99,
   "id": "46cf704f",
   "metadata": {},
   "outputs": [
    {
     "data": {
      "text/plain": [
       "(1117, 5600)"
      ]
     },
     "execution_count": 99,
     "metadata": {},
     "output_type": "execute_result"
    }
   ],
   "source": [
    "x_test.shape"
   ]
  },
  {
   "cell_type": "code",
   "execution_count": 100,
   "id": "4b3b5ffc",
   "metadata": {},
   "outputs": [],
   "source": [
    "from sklearn.tree import DecisionTreeClassifier"
   ]
  },
  {
   "cell_type": "code",
   "execution_count": 101,
   "id": "9cf85811",
   "metadata": {},
   "outputs": [],
   "source": [
    "model=DecisionTreeClassifier()"
   ]
  },
  {
   "cell_type": "code",
   "execution_count": 102,
   "id": "b5fb63da",
   "metadata": {},
   "outputs": [
    {
     "data": {
      "text/plain": [
       "DecisionTreeClassifier()"
      ]
     },
     "execution_count": 102,
     "metadata": {},
     "output_type": "execute_result"
    }
   ],
   "source": [
    "model.fit(x_train, y_train)"
   ]
  },
  {
   "cell_type": "code",
   "execution_count": 103,
   "id": "324a557d",
   "metadata": {},
   "outputs": [],
   "source": [
    "prediction=model.predict(x_test)\n"
   ]
  },
  {
   "cell_type": "code",
   "execution_count": 104,
   "id": "f5a88880",
   "metadata": {},
   "outputs": [
    {
     "data": {
      "text/plain": [
       "0.9704565801253358"
      ]
     },
     "execution_count": 104,
     "metadata": {},
     "output_type": "execute_result"
    }
   ],
   "source": [
    "model.score(x_test, y_test)"
   ]
  },
  {
   "cell_type": "code",
   "execution_count": 105,
   "id": "64450a2b",
   "metadata": {},
   "outputs": [],
   "source": [
    "import pickle"
   ]
  },
  {
   "cell_type": "code",
   "execution_count": 106,
   "id": "6126d311",
   "metadata": {},
   "outputs": [],
   "source": [
    "pickle.dump(vect, open('vector.pkl', 'wb'))"
   ]
  },
  {
   "cell_type": "code",
   "execution_count": 107,
   "id": "9820c2bb",
   "metadata": {},
   "outputs": [],
   "source": [
    "pickle.dump(model, open('model.pkl', 'wb'))"
   ]
  },
  {
   "cell_type": "code",
   "execution_count": 108,
   "id": "810897eb",
   "metadata": {},
   "outputs": [],
   "source": [
    "vector_form=pickle.load(open('vector.pkl', 'rb'))"
   ]
  },
  {
   "cell_type": "code",
   "execution_count": 109,
   "id": "eada9319",
   "metadata": {},
   "outputs": [],
   "source": [
    "load_model=pickle.load(open('model.pkl', 'rb'))"
   ]
  },
  {
   "cell_type": "code",
   "execution_count": 110,
   "id": "43d4c985",
   "metadata": {},
   "outputs": [],
   "source": [
    "def fraud_message(text):\n",
    "    news=stemming(text)\n",
    "    input_data=[text]\n",
    "    vector_form1=vector_form.transform(input_data)\n",
    "    val = load_model.predict(vector_form1)\n",
    "    if val==[0]:\n",
    "        return 'ham'\n",
    "    else:\n",
    "        return 'spam'\n",
    "    \n",
    "    "
   ]
  },
  {
   "cell_type": "code",
   "execution_count": null,
   "id": "f70206b2",
   "metadata": {},
   "outputs": [],
   "source": []
  }
 ],
 "metadata": {
  "kernelspec": {
   "display_name": "Python 3",
   "language": "python",
   "name": "python3"
  },
  "language_info": {
   "codemirror_mode": {
    "name": "ipython",
    "version": 3
   },
   "file_extension": ".py",
   "mimetype": "text/x-python",
   "name": "python",
   "nbconvert_exporter": "python",
   "pygments_lexer": "ipython3",
   "version": "3.9.4"
  }
 },
 "nbformat": 4,
 "nbformat_minor": 5
}
